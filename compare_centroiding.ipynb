{
 "cells": [
  {
   "cell_type": "code",
   "execution_count": 1,
   "id": "f2890928-0b48-4c7a-addc-0f16ed7ac0a5",
   "metadata": {},
   "outputs": [],
   "source": [
    "import numpy as np\n",
    "import pandas as pd\n",
    "import awkward as ak\n",
    "import pyarrow as pa\n",
    "import numba\n",
    "import tpx3awkward as tpx"
   ]
  },
  {
   "cell_type": "markdown",
   "id": "dd5d5bd9-bf3e-4fd0-aeb3-a9022a14dd91",
   "metadata": {},
   "source": [
    "## Loading data in and clustering with old way"
   ]
  },
  {
   "cell_type": "code",
   "execution_count": 2,
   "id": "558cb87f-a6fd-4bc2-acf9-1c4e087ca79b",
   "metadata": {},
   "outputs": [
    {
     "name": "stdout",
     "output_type": "stream",
     "text": [
      "26235549\n",
      "20914302\n",
      "20914303\n"
     ]
    }
   ],
   "source": [
    "df = pd.read_parquet(\"/nsls2/data/chx/shared/tpx/shared_data/public_example_raw_events.parquet\")\n",
    "df = tpx.drop_zero_tot(df)\n",
    "np_labels, np_events = tpx.cluster_df_optimized(df)\n",
    "df['cluster_id'] = np_labels\n",
    "print(len(df))\n",
    "print(max(np_labels))\n",
    "cluster_array = tpx.group_indices(np_labels)\n",
    "data = tpx.centroid_clusters(cluster_array, np_events)\n",
    "cdf = pd.DataFrame(tpx.ingest_cent_data(data)).sort_values(\"t\").reset_index(drop=True)\n",
    "cdf\n",
    "print(len(cdf))"
   ]
  },
  {
   "cell_type": "markdown",
   "id": "f9341be1-252d-452c-979d-16618937e3b1",
   "metadata": {},
   "source": [
    "## Clustering data with awkward"
   ]
  },
  {
   "cell_type": "code",
   "execution_count": 3,
   "id": "e7611ae6-afd4-4345-b914-1edd25cfb99e",
   "metadata": {},
   "outputs": [
    {
     "name": "stdout",
     "output_type": "stream",
     "text": [
      "20914303\n"
     ]
    }
   ],
   "source": [
    "@numba.jit(nopython=True)\n",
    "def cluster_ak(events, radius = tpx.DEFAULT_CLUSTER_RADIUS, tw = tpx.DEFAULT_CLUSTER_TW):\n",
    "    n = len(events)\n",
    "    labels = np.full(n, -1, dtype=np.int64)\n",
    "    cluster_id = 0\n",
    "\n",
    "    max_time = radius * tw  # maximum time difference allowed for clustering\n",
    "    radius_sq = radius ** 2\n",
    "\n",
    "    for i in range(n):\n",
    "        if labels[i] == -1:  # if event is unclustered\n",
    "            labels[i] = cluster_id\n",
    "            for j in range(i + 1, n):  # scan forward only\n",
    "                if events[j].t - events[i].t > max_time:  # early exit based on time\n",
    "                    break\n",
    "                # Compute squared Euclidean distance\n",
    "                dx = events[i].x - events[j].x\n",
    "                dy = events[i].y - events[j].y\n",
    "                dt = (events[i].t // tw) - (events[j].t // tw)\n",
    "                distance_sq = dx**2 + dy**2 + dt**2\n",
    "\n",
    "                if distance_sq <= radius_sq:\n",
    "                    labels[j] = cluster_id\n",
    "            cluster_id += 1\n",
    "\n",
    "    return labels\n",
    "\n",
    "table = pa.Table.from_pandas(df, preserve_index=False)\n",
    "# Make copy of schema with non-nullable fields.\n",
    "schema = pa.schema([field.with_nullable(False) for field in table.schema])\n",
    "events = ak.from_arrow(table.cast(schema))\n",
    "labels = cluster_ak(events)\n",
    "sorted_indices = np.argsort(labels)\n",
    "ak_clusters = ak.without_field(ak.unflatten(events[sorted_indices], ak.run_lengths(labels[sorted_indices])), \"cluster_id\")\n",
    "print(len(ak_clusters))"
   ]
  },
  {
   "cell_type": "markdown",
   "id": "c5dd197f-7979-490d-8f25-33402b7f8423",
   "metadata": {},
   "source": [
    "## Comparing Clustering"
   ]
  },
  {
   "cell_type": "code",
   "execution_count": 4,
   "id": "62ba5e8c-cd25-4040-8f0c-7f33d05be6aa",
   "metadata": {},
   "outputs": [],
   "source": [
    "def old_clustering(df):\n",
    "    np_labels, np_events = tpx.cluster_df_optimized(df)\n",
    "    df['cluster_id'] = np_labels\n",
    "\n",
    "old_clustering(df)"
   ]
  },
  {
   "cell_type": "code",
   "execution_count": 5,
   "id": "0ef5122f-4e35-4af2-aff1-ee46b04ad39d",
   "metadata": {},
   "outputs": [],
   "source": [
    "table = pa.Table.from_pandas(df, preserve_index=False)\n",
    "# Make copy of schema with non-nullable fields.\n",
    "schema = pa.schema([field.with_nullable(False) for field in table.schema])\n",
    "events = ak.from_arrow(table.cast(schema))\n",
    "\n",
    "def new_clustering(events):\n",
    "    labels = cluster_ak(events)\n",
    "    sorted_indices = np.argsort(labels)\n",
    "    ak_clusters = ak.without_field(ak.unflatten(events[sorted_indices], ak.run_lengths(labels[sorted_indices])), \"cluster_id\")\n",
    "\n",
    "new_clustering(events)"
   ]
  },
  {
   "cell_type": "code",
   "execution_count": 6,
   "id": "0542e1ea-2fd2-45d9-9542-58d1e65f045d",
   "metadata": {},
   "outputs": [
    {
     "name": "stdout",
     "output_type": "stream",
     "text": [
      "1.32 s ± 69.8 ms per loop (mean ± std. dev. of 7 runs, 1 loop each)\n"
     ]
    }
   ],
   "source": [
    "%timeit old_clustering(df)"
   ]
  },
  {
   "cell_type": "code",
   "execution_count": 7,
   "id": "0094bd04-5037-4c69-8cae-140a88e50c96",
   "metadata": {},
   "outputs": [
    {
     "name": "stdout",
     "output_type": "stream",
     "text": [
      "1.37 s ± 47.5 ms per loop (mean ± std. dev. of 7 runs, 1 loop each)\n"
     ]
    }
   ],
   "source": [
    "%timeit new_clustering(events)"
   ]
  },
  {
   "cell_type": "markdown",
   "id": "1105634c-07cf-4688-9689-21bd2b9c3434",
   "metadata": {},
   "source": [
    "### Numba/Numpy Centroiding"
   ]
  },
  {
   "cell_type": "code",
   "execution_count": 8,
   "id": "d7406a50-1c3d-40cc-81a0-d8648e7edccd",
   "metadata": {},
   "outputs": [
    {
     "data": {
      "text/plain": [
       "(array([  661703799,   661703802,   661703868, ..., 11746501989,\n",
       "        11746502539, 11746502934], dtype=uint64),\n",
       " array([364.     , 145.28572, 180.     , ...,  28.     , 174.     ,\n",
       "        219.     ], dtype=float32),\n",
       " array([ 45. , 109. , 206. , ..., 392. , 128. , 169.5], dtype=float32),\n",
       " array([275, 125, 375, ..., 375, 250, 200], dtype=uint32),\n",
       " array([275, 175, 375, ..., 375, 250, 400], dtype=uint32),\n",
       " array([1, 2, 1, ..., 1, 1, 2], dtype=uint8))"
      ]
     },
     "execution_count": 8,
     "metadata": {},
     "output_type": "execute_result"
    }
   ],
   "source": [
    "def centroid_numpy(clusters, events):\n",
    "    #sorted_cluster_indices = np.argsort(clusters)\n",
    "    cluster_array = tpx.group_indices(clusters)\n",
    "    return tpx.centroid_clusters(cluster_array, events)\n",
    "    \n",
    "centroid_numpy(np_labels, np_events)"
   ]
  },
  {
   "cell_type": "markdown",
   "id": "56ca8eb9-377c-48e6-bce6-40d29afda164",
   "metadata": {},
   "source": [
    "### Pandas Groupby Centroiding"
   ]
  },
  {
   "cell_type": "code",
   "execution_count": 9,
   "id": "99e882e1-1501-47af-b539-ae76633f9198",
   "metadata": {},
   "outputs": [
    {
     "name": "stderr",
     "output_type": "stream",
     "text": [
      "/tmp/ipykernel_1368054/193542251.py:4: SettingWithCopyWarning: \n",
      "A value is trying to be set on a copy of a slice from a DataFrame.\n",
      "Try using .loc[row_indexer,col_indexer] = value instead\n",
      "\n",
      "See the caveats in the documentation: https://pandas.pydata.org/pandas-docs/stable/user_guide/indexing.html#returning-a-view-versus-a-copy\n",
      "  df['x_weighted'] = df['x'] * df['ToT']\n"
     ]
    },
    {
     "data": {
      "text/html": [
       "<div>\n",
       "<style scoped>\n",
       "    .dataframe tbody tr th:only-of-type {\n",
       "        vertical-align: middle;\n",
       "    }\n",
       "\n",
       "    .dataframe tbody tr th {\n",
       "        vertical-align: top;\n",
       "    }\n",
       "\n",
       "    .dataframe thead th {\n",
       "        text-align: right;\n",
       "    }\n",
       "</style>\n",
       "<table border=\"1\" class=\"dataframe\">\n",
       "  <thead>\n",
       "    <tr style=\"text-align: right;\">\n",
       "      <th></th>\n",
       "      <th>t</th>\n",
       "      <th>xc</th>\n",
       "      <th>yc</th>\n",
       "      <th>ToT_max</th>\n",
       "      <th>ToT_sum</th>\n",
       "      <th>n</th>\n",
       "    </tr>\n",
       "  </thead>\n",
       "  <tbody>\n",
       "    <tr>\n",
       "      <th>0</th>\n",
       "      <td>661703799</td>\n",
       "      <td>364.000000</td>\n",
       "      <td>45.0</td>\n",
       "      <td>275</td>\n",
       "      <td>275</td>\n",
       "      <td>1</td>\n",
       "    </tr>\n",
       "    <tr>\n",
       "      <th>1</th>\n",
       "      <td>661703802</td>\n",
       "      <td>145.285714</td>\n",
       "      <td>109.0</td>\n",
       "      <td>125</td>\n",
       "      <td>175</td>\n",
       "      <td>2</td>\n",
       "    </tr>\n",
       "    <tr>\n",
       "      <th>2</th>\n",
       "      <td>661703868</td>\n",
       "      <td>180.000000</td>\n",
       "      <td>206.0</td>\n",
       "      <td>375</td>\n",
       "      <td>375</td>\n",
       "      <td>1</td>\n",
       "    </tr>\n",
       "    <tr>\n",
       "      <th>3</th>\n",
       "      <td>661704161</td>\n",
       "      <td>110.000000</td>\n",
       "      <td>215.0</td>\n",
       "      <td>400</td>\n",
       "      <td>400</td>\n",
       "      <td>1</td>\n",
       "    </tr>\n",
       "    <tr>\n",
       "      <th>4</th>\n",
       "      <td>661705668</td>\n",
       "      <td>141.000000</td>\n",
       "      <td>155.0</td>\n",
       "      <td>425</td>\n",
       "      <td>425</td>\n",
       "      <td>1</td>\n",
       "    </tr>\n",
       "    <tr>\n",
       "      <th>...</th>\n",
       "      <td>...</td>\n",
       "      <td>...</td>\n",
       "      <td>...</td>\n",
       "      <td>...</td>\n",
       "      <td>...</td>\n",
       "      <td>...</td>\n",
       "    </tr>\n",
       "    <tr>\n",
       "      <th>20914298</th>\n",
       "      <td>11746500740</td>\n",
       "      <td>268.000000</td>\n",
       "      <td>44.0</td>\n",
       "      <td>400</td>\n",
       "      <td>400</td>\n",
       "      <td>1</td>\n",
       "    </tr>\n",
       "    <tr>\n",
       "      <th>20914299</th>\n",
       "      <td>11746501908</td>\n",
       "      <td>182.000000</td>\n",
       "      <td>295.0</td>\n",
       "      <td>350</td>\n",
       "      <td>350</td>\n",
       "      <td>1</td>\n",
       "    </tr>\n",
       "    <tr>\n",
       "      <th>20914300</th>\n",
       "      <td>11746501989</td>\n",
       "      <td>28.000000</td>\n",
       "      <td>392.0</td>\n",
       "      <td>375</td>\n",
       "      <td>375</td>\n",
       "      <td>1</td>\n",
       "    </tr>\n",
       "    <tr>\n",
       "      <th>20914301</th>\n",
       "      <td>11746502539</td>\n",
       "      <td>174.000000</td>\n",
       "      <td>128.0</td>\n",
       "      <td>250</td>\n",
       "      <td>250</td>\n",
       "      <td>1</td>\n",
       "    </tr>\n",
       "    <tr>\n",
       "      <th>20914302</th>\n",
       "      <td>11746502934</td>\n",
       "      <td>219.000000</td>\n",
       "      <td>169.5</td>\n",
       "      <td>200</td>\n",
       "      <td>400</td>\n",
       "      <td>2</td>\n",
       "    </tr>\n",
       "  </tbody>\n",
       "</table>\n",
       "<p>20914303 rows × 6 columns</p>\n",
       "</div>"
      ],
      "text/plain": [
       "                    t          xc     yc  ToT_max  ToT_sum  n\n",
       "0           661703799  364.000000   45.0      275      275  1\n",
       "1           661703802  145.285714  109.0      125      175  2\n",
       "2           661703868  180.000000  206.0      375      375  1\n",
       "3           661704161  110.000000  215.0      400      400  1\n",
       "4           661705668  141.000000  155.0      425      425  1\n",
       "...               ...         ...    ...      ...      ... ..\n",
       "20914298  11746500740  268.000000   44.0      400      400  1\n",
       "20914299  11746501908  182.000000  295.0      350      350  1\n",
       "20914300  11746501989   28.000000  392.0      375      375  1\n",
       "20914301  11746502539  174.000000  128.0      250      250  1\n",
       "20914302  11746502934  219.000000  169.5      200      400  2\n",
       "\n",
       "[20914303 rows x 6 columns]"
      ]
     },
     "execution_count": 9,
     "metadata": {},
     "output_type": "execute_result"
    }
   ],
   "source": [
    "sub_df = df[[\"x\", \"y\", \"t\", \"ToT\", \"cluster_id\"]]\n",
    "\n",
    "def centroid_pandas_groupby(df):\n",
    "    df['x_weighted'] = df['x'] * df['ToT']\n",
    "    df['y_weighted'] = df['y'] * df['ToT']\n",
    "    \n",
    "    grouped = df.groupby('cluster_id', sort=False)\n",
    "    \n",
    "    ToT_sum = grouped['ToT'].sum()\n",
    "    ToT_max = grouped['ToT'].max()\n",
    "    n = grouped.size()\n",
    "    xc = grouped['x_weighted'].sum() / ToT_sum\n",
    "    yc = grouped['y_weighted'].sum() / ToT_sum\n",
    "    \n",
    "    idxmax = grouped['ToT'].idxmax()\n",
    "    t = df.loc[idxmax.values, 't'].values\n",
    "    cluster_ids = idxmax.index.values\n",
    "    \n",
    "    return pd.DataFrame({\n",
    "        't': t,\n",
    "        'xc': xc.values,\n",
    "        'yc': yc.values,\n",
    "        'ToT_max': ToT_max.values,\n",
    "        'ToT_sum': ToT_sum.values,\n",
    "        'n': n.values\n",
    "    }, index=cluster_ids)\n",
    "\n",
    "centroid_pandas_groupby(sub_df)"
   ]
  },
  {
   "cell_type": "markdown",
   "id": "82056028-9bab-4b76-867b-c1173d43bf0b",
   "metadata": {},
   "source": [
    "### Awkward+Numba Centroiding"
   ]
  },
  {
   "cell_type": "code",
   "execution_count": 10,
   "id": "20bca39a-45d8-408d-ac77-e79da04bd959",
   "metadata": {},
   "outputs": [],
   "source": [
    "@numba.jit(nopython=True)\n",
    "def centroid_clusters_awkward_numba(\n",
    "    awkward_array\n",
    "):  \n",
    "\n",
    "    num_clusters = len(awkward_array)\n",
    "    \n",
    "    t = np.zeros(num_clusters, dtype=\"uint64\")\n",
    "    xc = np.zeros(num_clusters, dtype=\"float32\")\n",
    "    yc = np.zeros(num_clusters, dtype=\"float32\")\n",
    "    ToT_max = np.zeros(num_clusters, dtype=\"uint32\")\n",
    "    ToT_sum = np.zeros(num_clusters, dtype=\"uint32\")\n",
    "    n = np.zeros(num_clusters, dtype=\"ubyte\")\n",
    "\n",
    "    cluster_id = 0\n",
    "    for cluster in awkward_array:\n",
    "        _ToT_sum = np.ushort(0)\n",
    "        _ToT_max = np.ushort(0)\n",
    "        for event in cluster:\n",
    "            if event['ToT'] > _ToT_max:  # find the max ToT, assign, use that time\n",
    "                _ToT_max = event['ToT']\n",
    "                t[cluster_id] = event['t']\n",
    "                ToT_max[cluster_id] = _ToT_max\n",
    "            xc[cluster_id] += event['x'] * event['ToT']  # x and y centroids by time over threshold\n",
    "            yc[cluster_id] += event['y'] * event['ToT']\n",
    "            _ToT_sum += event['ToT']  # calcuate sum\n",
    "            n[cluster_id] += np.ubyte(1)  # number of events in cluster\n",
    "\n",
    "        xc[cluster_id] /= _ToT_sum  # normalize\n",
    "        yc[cluster_id] /= _ToT_sum\n",
    "        ToT_sum[cluster_id] = _ToT_sum\n",
    "        cluster_id += 1\n",
    "\n",
    "    return t, xc, yc, ToT_max, ToT_sum, n"
   ]
  },
  {
   "cell_type": "code",
   "execution_count": 11,
   "id": "e1e2d00f-4d15-4f19-b6ed-7c11d66d0051",
   "metadata": {},
   "outputs": [
    {
     "name": "stdout",
     "output_type": "stream",
     "text": [
      "265 ms ± 13.8 ms per loop (mean ± std. dev. of 7 runs, 1 loop each)\n"
     ]
    }
   ],
   "source": [
    "%timeit awkward_clusters = centroid_clusters_awkward_numba(ak_clusters)"
   ]
  },
  {
   "cell_type": "code",
   "execution_count": 12,
   "id": "f5ab55c6-e1aa-438a-81bb-6c4e34a030c6",
   "metadata": {},
   "outputs": [
    {
     "name": "stdout",
     "output_type": "stream",
     "text": [
      "722 ms ± 62.8 ms per loop (mean ± std. dev. of 7 runs, 1 loop each)\n"
     ]
    }
   ],
   "source": [
    "%timeit numpy_clusters = centroid_numpy(np_labels, np_events)"
   ]
  },
  {
   "cell_type": "markdown",
   "id": "998b388d-ce4c-425a-9c52-656ad7332764",
   "metadata": {},
   "source": [
    "### Awkward Only Centroiding"
   ]
  },
  {
   "cell_type": "code",
   "execution_count": 13,
   "id": "ec9d9177-6959-46c8-99fa-30225f942cb3",
   "metadata": {},
   "outputs": [
    {
     "data": {
      "text/html": [
       "<pre>[{t: 661703799, xc: 364, yc: 45, ToT_max: 275, ToT_sum: 275, n: 1, ...},\n",
       " {t: 661703802, xc: 145, yc: 109, ToT_max: 125, ToT_sum: 175, n: 2, ...},\n",
       " {t: 661703868, xc: 180, yc: 206, ToT_max: 375, ToT_sum: 375, n: 1, ...},\n",
       " {t: 661704161, xc: 110, yc: 215, ToT_max: 400, ToT_sum: 400, n: 1, ...},\n",
       " {t: 661705668, xc: 141, yc: 155, ToT_max: 425, ToT_sum: 425, n: 1, ...},\n",
       " {t: 661706108, xc: 215, yc: 277, ToT_max: 400, ToT_sum: 400, n: 1, ...},\n",
       " {t: 661706253, xc: 141, yc: 179, ToT_max: 350, ToT_sum: 350, n: 1, ...},\n",
       " {t: 661706959, xc: 237, yc: 126, ToT_max: 400, ToT_sum: 400, n: 1, ...},\n",
       " {t: 661708128, xc: 96, yc: 385, ToT_max: 450, ToT_sum: 450, n: 1, ...},\n",
       " {t: 661709360, xc: 108, yc: 276, ToT_max: 325, ToT_sum: 325, n: 1, ...},\n",
       " ...,\n",
       " {t: 11746497667, xc: 110, yc: 263, ToT_max: 525, ToT_sum: 525, n: 1, ...},\n",
       " {t: 11746498186, xc: 388, yc: 398, ToT_max: 300, ToT_sum: 525, n: 2, ...},\n",
       " {t: 11746499526, xc: 206, yc: 189, ToT_max: 425, ToT_sum: 425, n: 1, ...},\n",
       " {t: 11746500537, xc: 103, yc: 115, ToT_max: 400, ToT_sum: 400, n: 1, ...},\n",
       " {t: 11746500740, xc: 268, yc: 44, ToT_max: 400, ToT_sum: 400, n: 1, ...},\n",
       " {t: 11746501908, xc: 182, yc: 295, ToT_max: 350, ToT_sum: 350, n: 1, ...},\n",
       " {t: 11746501989, xc: 28, yc: 392, ToT_max: 375, ToT_sum: 375, n: 1, ...},\n",
       " {t: 11746502539, xc: 174, yc: 128, ToT_max: 250, ToT_sum: 250, n: 1, ...},\n",
       " {t: 11746502934, xc: 219, yc: 170, ToT_max: 200, ToT_sum: 400, n: 2, ...}]\n",
       "---------------------------------------------------------------------------------------------------------------------------------------------------------------------------------------------------------------------------------------------------------------------------------\n",
       "backend: cpu\n",
       "nbytes: 2.2 GB\n",
       "type: 20914303 * {\n",
       "    t: ?uint64,\n",
       "    xc: float64,\n",
       "    yc: float64,\n",
       "    ToT_max: ?uint32,\n",
       "    ToT_sum: uint64,\n",
       "    n: int64,\n",
       "    events: var * {\n",
       "        index: int64,\n",
       "        x: uint16,\n",
       "        y: uint16,\n",
       "        ToT: uint32,\n",
       "        t: uint64,\n",
       "        chip: uint8\n",
       "    }\n",
       "}</pre>"
      ],
      "text/plain": [
       "<Array [{t: 661703799, xc: 364, ...}, ...] type='20914303 * {t: ?uint64, xc...'>"
      ]
     },
     "execution_count": 13,
     "metadata": {},
     "output_type": "execute_result"
    }
   ],
   "source": [
    "def centroid_awkward_without_events(a):\n",
    "    n = ak.num(a, axis=1)\n",
    "    ToT_max = ak.max(a['ToT'], axis=1)\n",
    "    ToT_sum = ak.sum(a['ToT'], axis=1)\n",
    "    xc = ak.sum(a['x'] * a['ToT'], axis=1) / ToT_sum\n",
    "    yc = ak.sum(a['y'] * a['ToT'], axis=1) / ToT_sum\n",
    "\n",
    "    t = ak.flatten(a['t'][ak.argmax(a['ToT'], axis=1, keepdims=True)])\n",
    "\n",
    "    return ak.zip({\n",
    "        \"t\": t,\n",
    "        \"xc\": xc,\n",
    "        \"yc\": yc,\n",
    "        \"ToT_max\": ToT_max,\n",
    "        \"ToT_sum\": ToT_sum,\n",
    "        \"n\": n,\n",
    "    }, depth_limit = 1)\n",
    "\n",
    "\n",
    "def centroid_awkward_with_events(a):\n",
    "    n = ak.num(a, axis=1)\n",
    "    ToT_max = ak.max(a['ToT'], axis=1)\n",
    "    ToT_sum = ak.sum(a['ToT'], axis=1)\n",
    "    xc = ak.sum(a['x'] * a['ToT'], axis=1) / ToT_sum\n",
    "    yc = ak.sum(a['y'] * a['ToT'], axis=1) / ToT_sum\n",
    "    t = ak.flatten(a['t'][ak.argmax(a['ToT'], axis=1, keepdims=True)])\n",
    "\n",
    "\n",
    "    return ak.zip({\n",
    "        \"t\": t,\n",
    "        \"xc\": xc,\n",
    "        \"yc\": yc,\n",
    "        \"ToT_max\": ToT_max,\n",
    "        \"ToT_sum\": ToT_sum,\n",
    "        \"n\": n,\n",
    "        \"events\": a\n",
    "    }, depth_limit = 1)\n",
    "\n",
    "\n",
    "centroid_awkward_with_events(ak_clusters)\n",
    "#centroid_ak_wo_events = centroid_awkward_without_events(ak_clusters)"
   ]
  },
  {
   "cell_type": "markdown",
   "id": "2a0ddaac-c4b7-430f-80dc-1c9ecaf4ed58",
   "metadata": {},
   "source": [
    "## Benchmark"
   ]
  },
  {
   "cell_type": "code",
   "execution_count": 14,
   "id": "72a9184a-e732-4af3-939d-023c7e2c1a2d",
   "metadata": {},
   "outputs": [
    {
     "name": "stdout",
     "output_type": "stream",
     "text": [
      "Awkward + Numba                          | Avg: 0.281359 s | Stddev: 0.009459 s\n",
      "NumPy + Numba                            | Avg: 0.897429 s | Stddev: 0.001464 s\n",
      "Awkward Block Operations w/o Events      | Avg: 2.418502 s | Stddev: 0.079508 s\n",
      "Awkward Block Operations w/ Events       | Avg: 2.427737 s | Stddev: 0.105645 s\n",
      "Pandas groupby                           | Avg: 4.793979 s | Stddev: 0.026456 s\n"
     ]
    }
   ],
   "source": [
    "import timeit\n",
    "import statistics\n",
    "\n",
    "def run_awkward_with_numba():\n",
    "    centroid_clusters_awkward_numba(ak_clusters)\n",
    "\n",
    "def run_numpy_with_numba():\n",
    "    centroid_numpy(np_labels, np_events)\n",
    "\n",
    "def run_pandas():\n",
    "    centroid_pandas_groupby(sub_df)\n",
    "\n",
    "def run_awkward_with_events():\n",
    "    centroid_awkward_with_events(ak_clusters)\n",
    "\n",
    "def run_awkward_without_events():\n",
    "    centroid_awkward_without_events(ak_clusters)\n",
    "\n",
    "# Benchmarking function\n",
    "def benchmark(func, name, number=5):\n",
    "    times = timeit.repeat(func, repeat=number, number=1)\n",
    "    avg_time = statistics.mean(times)\n",
    "    stddev = statistics.stdev(times)\n",
    "    print(f\"{name:40s} | Avg: {avg_time:.6f} s | Stddev: {stddev:.6f} s\")\n",
    "\n",
    "# Run benchmarks\n",
    "benchmark(run_awkward_with_numba, \"Awkward + Numba\")\n",
    "benchmark(run_numpy_with_numba, \"NumPy + Numba\")\n",
    "benchmark(run_awkward_without_events, \"Awkward Block Operations w/o Events\")\n",
    "benchmark(run_awkward_with_events, \"Awkward Block Operations w/ Events\")\n",
    "benchmark(run_pandas, \"Pandas groupby\")"
   ]
  },
  {
   "cell_type": "code",
   "execution_count": null,
   "id": "2f0c73b2-b2d3-47d3-9a2a-be063e53e347",
   "metadata": {},
   "outputs": [],
   "source": []
  }
 ],
 "metadata": {
  "kernelspec": {
   "display_name": "Python 3 (Pixi - Advanced)",
   "language": "python",
   "name": "pixi-kernel-python3"
  },
  "language_info": {
   "codemirror_mode": {
    "name": "ipython",
    "version": 3
   },
   "file_extension": ".py",
   "mimetype": "text/x-python",
   "name": "python",
   "nbconvert_exporter": "python",
   "pygments_lexer": "ipython3",
   "version": "3.12.11"
  }
 },
 "nbformat": 4,
 "nbformat_minor": 5
}
