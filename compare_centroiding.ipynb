{
 "cells": [
  {
   "cell_type": "code",
   "execution_count": 1,
   "id": "f2890928-0b48-4c7a-addc-0f16ed7ac0a5",
   "metadata": {},
   "outputs": [],
   "source": [
    "import numpy as np\n",
    "import pandas as pd\n",
    "import awkward as ak\n",
    "import pyarrow as pa\n",
    "import numba\n",
    "import tpx3awkward as tpx"
   ]
  },
  {
   "cell_type": "markdown",
   "id": "dd5d5bd9-bf3e-4fd0-aeb3-a9022a14dd91",
   "metadata": {},
   "source": [
    "## Loading data in and clustering with old way"
   ]
  },
  {
   "cell_type": "code",
   "execution_count": 2,
   "id": "558cb87f-a6fd-4bc2-acf9-1c4e087ca79b",
   "metadata": {},
   "outputs": [
    {
     "name": "stdout",
     "output_type": "stream",
     "text": [
      "25502702\n",
      "20144304\n",
      "20144305\n"
     ]
    }
   ],
   "source": [
    "df = pd.read_parquet(\"/nsls2/data/chx/shared/tpx/shared_data/example_raw_events.parquet\")\n",
    "df = tpx.drop_zero_tot(df)\n",
    "np_labels, np_events = tpx.cluster_df_optimized(df)\n",
    "df['cluster_id'] = np_labels\n",
    "print(len(df))\n",
    "print(max(np_labels))\n",
    "cluster_array = tpx.group_indices(np_labels)\n",
    "data = tpx.centroid_clusters(cluster_array, np_events)\n",
    "cdf = pd.DataFrame(tpx.ingest_cent_data(data)).sort_values(\"t\").reset_index(drop=True)\n",
    "cdf\n",
    "print(len(cdf))"
   ]
  },
  {
   "cell_type": "markdown",
   "id": "f9341be1-252d-452c-979d-16618937e3b1",
   "metadata": {},
   "source": [
    "## Clustering data with awkward"
   ]
  },
  {
   "cell_type": "code",
   "execution_count": 3,
   "id": "e7611ae6-afd4-4345-b914-1edd25cfb99e",
   "metadata": {},
   "outputs": [
    {
     "name": "stdout",
     "output_type": "stream",
     "text": [
      "OK, there are 25502702 raw events....\n",
      "And we find 20144305 clusters.\n",
      "Just to be pedantic, we check that length of cluster IDs match num raw events (25502702 - it does)\n",
      "and all events are assigned to clusters (0 - as it should be)\n",
      "So: shouldn't the length of clusters be the the max value (+1 because we start at 0)? But it's not: 21568788\n",
      "20144305\n"
     ]
    }
   ],
   "source": [
    "@numba.jit(nopython=True)\n",
    "def cluster_ak(events, radius = tpx.DEFAULT_CLUSTER_RADIUS, tw = tpx.DEFAULT_CLUSTER_TW):\n",
    "    n = len(events)\n",
    "    labels = np.full(n, -1, dtype=np.int64)\n",
    "    cluster_id = 0\n",
    "\n",
    "    max_time = radius * tw  # maximum time difference allowed for clustering\n",
    "    radius_sq = radius ** 2\n",
    "\n",
    "    for i in range(n):\n",
    "        if labels[i] == -1:  # if event is unclustered\n",
    "            labels[i] = cluster_id\n",
    "            for j in range(i + 1, n):  # scan forward only\n",
    "                if events[j].t - events[i].t > max_time:  # early exit based on time\n",
    "                    break\n",
    "                # Compute squared Euclidean distance\n",
    "                dx = events[i].x - events[j].x\n",
    "                dy = events[i].y - events[j].y\n",
    "                dt = (events[i].t // tw) - (events[j].t // tw)\n",
    "                distance_sq = dx**2 + dy**2 + dt**2\n",
    "\n",
    "                if distance_sq <= radius_sq:\n",
    "                    labels[j] = cluster_id\n",
    "            cluster_id += 1\n",
    "\n",
    "    return labels\n",
    "\n",
    "events = ak.from_arrow(pa.Table.from_pandas(df))\n",
    "print(f\"OK, there are {len(events)} raw events....\")\n",
    "labels = cluster_ak(events)\n",
    "print(f\"And we find {max(labels)+1} clusters.\")\n",
    "print(f\"Just to be pedantic, we check that length of cluster IDs match num raw events ({len(labels)} - it does)\")\n",
    "print(f\"and all events are assigned to clusters ({np.sum(labels == -1)} - as it should be)\")\n",
    "ak_clusters = ak.unflatten(events, ak.run_lengths(labels))\n",
    "print(f\"So: shouldn't the length of clusters be the the max value (+1 because we start at 0)? But it's not: {len(ak_clusters)}\")\n",
    "\n",
    "# FIX: sorting the indices!\n",
    "sorted_indices = np.argsort(labels)\n",
    "ak_clusters = ak.unflatten(events[sorted_indices], ak.run_lengths(labels[sorted_indices]))\n",
    "print(len(ak_clusters))"
   ]
  },
  {
   "cell_type": "markdown",
   "id": "1105634c-07cf-4688-9689-21bd2b9c3434",
   "metadata": {},
   "source": [
    "### Numba/Numpy Centroiding"
   ]
  },
  {
   "cell_type": "code",
   "execution_count": 4,
   "id": "d7406a50-1c3d-40cc-81a0-d8648e7edccd",
   "metadata": {},
   "outputs": [
    {
     "data": {
      "text/plain": [
       "(array([  8903922,   8903922,   8903924, ..., 642368832, 642371337,\n",
       "        642372471], dtype=uint64),\n",
       " array([258.,  67.,  34., ..., 489., 262., 353.], dtype=float32),\n",
       " array([ 52.,  34., 153., ..., 303., 380., 261.], dtype=float32),\n",
       " array([275, 325, 100, ..., 325, 350, 325], dtype=uint32),\n",
       " array([275, 325, 100, ..., 325, 350, 325], dtype=uint32),\n",
       " array([1, 1, 1, ..., 1, 1, 1], dtype=uint8))"
      ]
     },
     "execution_count": 4,
     "metadata": {},
     "output_type": "execute_result"
    }
   ],
   "source": [
    "def centroid_numpy(clusters, events):\n",
    "    cluster_array = tpx.group_indices(clusters)\n",
    "    return tpx.centroid_clusters(cluster_array, events)\n",
    "    \n",
    "centroid_numpy(np_labels, np_events)"
   ]
  },
  {
   "cell_type": "markdown",
   "id": "56ca8eb9-377c-48e6-bce6-40d29afda164",
   "metadata": {},
   "source": [
    "### Pandas Groupby Centroiding"
   ]
  },
  {
   "cell_type": "code",
   "execution_count": 5,
   "id": "99e882e1-1501-47af-b539-ae76633f9198",
   "metadata": {},
   "outputs": [
    {
     "data": {
      "text/html": [
       "<div>\n",
       "<style scoped>\n",
       "    .dataframe tbody tr th:only-of-type {\n",
       "        vertical-align: middle;\n",
       "    }\n",
       "\n",
       "    .dataframe tbody tr th {\n",
       "        vertical-align: top;\n",
       "    }\n",
       "\n",
       "    .dataframe thead th {\n",
       "        text-align: right;\n",
       "    }\n",
       "</style>\n",
       "<table border=\"1\" class=\"dataframe\">\n",
       "  <thead>\n",
       "    <tr style=\"text-align: right;\">\n",
       "      <th></th>\n",
       "      <th>t</th>\n",
       "      <th>xc</th>\n",
       "      <th>yc</th>\n",
       "      <th>ToT_max</th>\n",
       "      <th>ToT_sum</th>\n",
       "      <th>n</th>\n",
       "    </tr>\n",
       "  </thead>\n",
       "  <tbody>\n",
       "    <tr>\n",
       "      <th>0</th>\n",
       "      <td>8903922</td>\n",
       "      <td>258.0</td>\n",
       "      <td>52.0</td>\n",
       "      <td>275</td>\n",
       "      <td>275</td>\n",
       "      <td>1</td>\n",
       "    </tr>\n",
       "    <tr>\n",
       "      <th>1</th>\n",
       "      <td>8903922</td>\n",
       "      <td>67.0</td>\n",
       "      <td>34.0</td>\n",
       "      <td>325</td>\n",
       "      <td>325</td>\n",
       "      <td>1</td>\n",
       "    </tr>\n",
       "    <tr>\n",
       "      <th>2</th>\n",
       "      <td>8903924</td>\n",
       "      <td>34.0</td>\n",
       "      <td>153.0</td>\n",
       "      <td>100</td>\n",
       "      <td>100</td>\n",
       "      <td>1</td>\n",
       "    </tr>\n",
       "    <tr>\n",
       "      <th>3</th>\n",
       "      <td>8903927</td>\n",
       "      <td>77.0</td>\n",
       "      <td>24.0</td>\n",
       "      <td>275</td>\n",
       "      <td>275</td>\n",
       "      <td>1</td>\n",
       "    </tr>\n",
       "    <tr>\n",
       "      <th>4</th>\n",
       "      <td>8903934</td>\n",
       "      <td>25.8</td>\n",
       "      <td>42.0</td>\n",
       "      <td>200</td>\n",
       "      <td>250</td>\n",
       "      <td>2</td>\n",
       "    </tr>\n",
       "    <tr>\n",
       "      <th>...</th>\n",
       "      <td>...</td>\n",
       "      <td>...</td>\n",
       "      <td>...</td>\n",
       "      <td>...</td>\n",
       "      <td>...</td>\n",
       "      <td>...</td>\n",
       "    </tr>\n",
       "    <tr>\n",
       "      <th>20144300</th>\n",
       "      <td>642368357</td>\n",
       "      <td>328.0</td>\n",
       "      <td>266.1</td>\n",
       "      <td>225</td>\n",
       "      <td>250</td>\n",
       "      <td>2</td>\n",
       "    </tr>\n",
       "    <tr>\n",
       "      <th>20144301</th>\n",
       "      <td>642368713</td>\n",
       "      <td>459.0</td>\n",
       "      <td>335.0</td>\n",
       "      <td>375</td>\n",
       "      <td>375</td>\n",
       "      <td>1</td>\n",
       "    </tr>\n",
       "    <tr>\n",
       "      <th>20144302</th>\n",
       "      <td>642368832</td>\n",
       "      <td>489.0</td>\n",
       "      <td>303.0</td>\n",
       "      <td>325</td>\n",
       "      <td>325</td>\n",
       "      <td>1</td>\n",
       "    </tr>\n",
       "    <tr>\n",
       "      <th>20144303</th>\n",
       "      <td>642371337</td>\n",
       "      <td>262.0</td>\n",
       "      <td>380.0</td>\n",
       "      <td>350</td>\n",
       "      <td>350</td>\n",
       "      <td>1</td>\n",
       "    </tr>\n",
       "    <tr>\n",
       "      <th>20144304</th>\n",
       "      <td>642372471</td>\n",
       "      <td>353.0</td>\n",
       "      <td>261.0</td>\n",
       "      <td>325</td>\n",
       "      <td>325</td>\n",
       "      <td>1</td>\n",
       "    </tr>\n",
       "  </tbody>\n",
       "</table>\n",
       "<p>20144305 rows × 6 columns</p>\n",
       "</div>"
      ],
      "text/plain": [
       "                  t     xc     yc  ToT_max  ToT_sum  n\n",
       "0           8903922  258.0   52.0      275      275  1\n",
       "1           8903922   67.0   34.0      325      325  1\n",
       "2           8903924   34.0  153.0      100      100  1\n",
       "3           8903927   77.0   24.0      275      275  1\n",
       "4           8903934   25.8   42.0      200      250  2\n",
       "...             ...    ...    ...      ...      ... ..\n",
       "20144300  642368357  328.0  266.1      225      250  2\n",
       "20144301  642368713  459.0  335.0      375      375  1\n",
       "20144302  642368832  489.0  303.0      325      325  1\n",
       "20144303  642371337  262.0  380.0      350      350  1\n",
       "20144304  642372471  353.0  261.0      325      325  1\n",
       "\n",
       "[20144305 rows x 6 columns]"
      ]
     },
     "execution_count": 5,
     "metadata": {},
     "output_type": "execute_result"
    }
   ],
   "source": [
    "sub_df = df[[\"x\", \"y\", \"t\", \"ToT\", \"cluster_id\"]]\n",
    "\n",
    "def centroid_pandas_groupby(df):\n",
    "    df['x_weighted'] = df['x'] * df['ToT']\n",
    "    df['y_weighted'] = df['y'] * df['ToT']\n",
    "    \n",
    "    grouped = df.groupby('cluster_id', sort=False)\n",
    "    \n",
    "    ToT_sum = grouped['ToT'].sum()\n",
    "    ToT_max = grouped['ToT'].max()\n",
    "    n = grouped.size()\n",
    "    xc = grouped['x_weighted'].sum() / ToT_sum\n",
    "    yc = grouped['y_weighted'].sum() / ToT_sum\n",
    "    \n",
    "    idxmax = grouped['ToT'].idxmax()\n",
    "    t = df.loc[idxmax.values, 't'].values\n",
    "    cluster_ids = idxmax.index.values\n",
    "    \n",
    "    return pd.DataFrame({\n",
    "        't': t,\n",
    "        'xc': xc.values,\n",
    "        'yc': yc.values,\n",
    "        'ToT_max': ToT_max.values,\n",
    "        'ToT_sum': ToT_sum.values,\n",
    "        'n': n.values\n",
    "    }, index=cluster_ids)\n",
    "\n",
    "centroid_pandas_groupby(sub_df)"
   ]
  },
  {
   "cell_type": "markdown",
   "id": "82056028-9bab-4b76-867b-c1173d43bf0b",
   "metadata": {},
   "source": [
    "### Awkward Centroiding"
   ]
  },
  {
   "cell_type": "code",
   "execution_count": 6,
   "id": "ec9d9177-6959-46c8-99fa-30225f942cb3",
   "metadata": {},
   "outputs": [
    {
     "data": {
      "text/html": [
       "<pre>[{t: 8903922, xc: 258, yc: 52, ToT_max: 275, ToT_sum: 275, n: 1, ...},\n",
       " {t: 8903922, xc: 67, yc: 34, ToT_max: 325, ToT_sum: 325, n: 1, ...},\n",
       " {t: 8903924, xc: 34, yc: 153, ToT_max: 100, ToT_sum: 100, n: 1, ...},\n",
       " {t: 8903927, xc: 77, yc: 24, ToT_max: 275, ToT_sum: 275, n: 1, ...},\n",
       " {t: 8903934, xc: 25.8, yc: 42, ToT_max: 200, ToT_sum: 250, n: 2, ...},\n",
       " {t: 8903933, xc: 24, yc: 13, ToT_max: 25, ToT_sum: 25, n: 1, events: ..., ...},\n",
       " {t: 8903934, xc: 283, yc: 16, ToT_max: 200, ToT_sum: 200, n: 1, ...},\n",
       " {t: 8904007, xc: 57, yc: 78, ToT_max: 400, ToT_sum: 400, n: 1, ...},\n",
       " {t: 8904047, xc: 70.5, yc: 183, ToT_max: 200, ToT_sum: 375, n: 2, ...},\n",
       " {t: 8904048, xc: 126, yc: 238, ToT_max: 250, ToT_sum: 425, n: 2, ...},\n",
       " ...,\n",
       " {t: 642367665, xc: 257, yc: 276, ToT_max: 350, ToT_sum: 350, n: 1, ...},\n",
       " {t: 642367681, xc: 437, yc: 468, ToT_max: 325, ToT_sum: 375, n: 2, ...},\n",
       " {t: 642367713, xc: 431, yc: 479, ToT_max: 375, ToT_sum: 375, n: 1, ...},\n",
       " {t: 642367908, xc: 272, yc: 395, ToT_max: 325, ToT_sum: 325, n: 1, ...},\n",
       " {t: 642368357, xc: 328, yc: 266, ToT_max: 225, ToT_sum: 250, n: 2, ...},\n",
       " {t: 642368713, xc: 459, yc: 335, ToT_max: 375, ToT_sum: 375, n: 1, ...},\n",
       " {t: 642368832, xc: 489, yc: 303, ToT_max: 325, ToT_sum: 325, n: 1, ...},\n",
       " {t: 642371337, xc: 262, yc: 380, ToT_max: 350, ToT_sum: 350, n: 1, ...},\n",
       " {t: 642372471, xc: 353, yc: 261, ToT_max: 325, ToT_sum: 325, n: 1, ...}]\n",
       "-------------------------------------------------------------------------------------------------------------------------------------------------------------------------------------------------------------------------------------------------------------------------------------------------------------------------------\n",
       "backend: cpu\n",
       "nbytes: 2.3 GB\n",
       "type: 20144305 * {\n",
       "    t: ?uint64,\n",
       "    xc: float64,\n",
       "    yc: float64,\n",
       "    ToT_max: ?uint32,\n",
       "    ToT_sum: uint64,\n",
       "    n: int64,\n",
       "    events: var * {\n",
       "        x: ?uint16,\n",
       "        y: ?uint16,\n",
       "        ToT: ?uint32,\n",
       "        t: ?uint64,\n",
       "        chip: ?uint8,\n",
       "        cluster_id: ?int64,\n",
       "        __index_level_0__: ?int64\n",
       "    }\n",
       "}</pre>"
      ],
      "text/plain": [
       "<Array [{t: 8903922, xc: 258, ...}, ..., {...}] type='20144305 * {t: ?uint6...'>"
      ]
     },
     "execution_count": 6,
     "metadata": {},
     "output_type": "execute_result"
    }
   ],
   "source": [
    "def centroid_awkward_without_events(a):\n",
    "    n = ak.num(a, axis=1)\n",
    "    ToT_max = ak.max(a['ToT'], axis=1)\n",
    "    ToT_sum = ak.sum(a['ToT'], axis=1)\n",
    "    xc = ak.sum(a['x'] * a['ToT'], axis=1) / ToT_sum\n",
    "    yc = ak.sum(a['y'] * a['ToT'], axis=1) / ToT_sum\n",
    "\n",
    "    t = ak.flatten(a['t'][ak.argmax(a['ToT'], axis=1, keepdims=True)])\n",
    "\n",
    "    return ak.zip({\n",
    "        \"t\": t,\n",
    "        \"xc\": xc,\n",
    "        \"yc\": yc,\n",
    "        \"ToT_max\": ToT_max,\n",
    "        \"ToT_sum\": ToT_sum,\n",
    "        \"n\": n,\n",
    "    }, depth_limit = 1)\n",
    "\n",
    "\n",
    "def centroid_awkward_with_events(a):\n",
    "    n = ak.num(a, axis=1)\n",
    "    ToT_max = ak.max(a['ToT'], axis=1)\n",
    "    ToT_sum = ak.sum(a['ToT'], axis=1)\n",
    "    xc = ak.sum(a['x'] * a['ToT'], axis=1) / ToT_sum\n",
    "    yc = ak.sum(a['y'] * a['ToT'], axis=1) / ToT_sum\n",
    "    t = ak.flatten(a['t'][ak.argmax(a['ToT'], axis=1, keepdims=True)])\n",
    "\n",
    "\n",
    "    return ak.zip({\n",
    "        \"t\": t,\n",
    "        \"xc\": xc,\n",
    "        \"yc\": yc,\n",
    "        \"ToT_max\": ToT_max,\n",
    "        \"ToT_sum\": ToT_sum,\n",
    "        \"n\": n,\n",
    "        \"events\": a\n",
    "    }, depth_limit = 1)\n",
    "\n",
    "\n",
    "centroid_awkward_with_events(ak_clusters)\n",
    "#centroid_ak_wo_events = centroid_awkward_without_events(ak_clusters)"
   ]
  },
  {
   "cell_type": "markdown",
   "id": "2a0ddaac-c4b7-430f-80dc-1c9ecaf4ed58",
   "metadata": {},
   "source": [
    "## Benchmark"
   ]
  },
  {
   "cell_type": "code",
   "execution_count": null,
   "id": "72a9184a-e732-4af3-939d-023c7e2c1a2d",
   "metadata": {},
   "outputs": [
    {
     "name": "stdout",
     "output_type": "stream",
     "text": [
      "NumPy + Numba                  | Avg: 0.672638 s | Stddev: 0.008076 s\n"
     ]
    }
   ],
   "source": [
    "import timeit\n",
    "import statistics\n",
    "\n",
    "def run_numpy():\n",
    "    centroid_numpy(np_labels, np_events)\n",
    "\n",
    "def run_pandas():\n",
    "    centroid_pandas_groupby(sub_df)\n",
    "\n",
    "def run_awkward_with_events():\n",
    "    centroid_awkward_with_events(ak_clusters)\n",
    "\n",
    "def run_awkward_without_events():\n",
    "    centroid_awkward_without_events(ak_clusters)\n",
    "\n",
    "# Benchmarking function\n",
    "def benchmark(func, name, number=5):\n",
    "    times = timeit.repeat(func, repeat=number, number=1)\n",
    "    avg_time = statistics.mean(times)\n",
    "    stddev = statistics.stdev(times)\n",
    "    print(f\"{name:30s} | Avg: {avg_time:.6f} s | Stddev: {stddev:.6f} s\")\n",
    "\n",
    "# Run benchmarks\n",
    "benchmark(run_numpy, \"NumPy + Numba\")\n",
    "benchmark(run_pandas, \"Pandas groupby\")\n",
    "benchmark(run_awkward_without_events, \"Awkward without events\")\n",
    "benchmark(run_awkward_with_events, \"Awkward with events\")"
   ]
  },
  {
   "cell_type": "code",
   "execution_count": null,
   "id": "2f0c73b2-b2d3-47d3-9a2a-be063e53e347",
   "metadata": {},
   "outputs": [],
   "source": []
  }
 ],
 "metadata": {
  "kernelspec": {
   "display_name": "Python 3 (Pixi - Advanced)",
   "language": "python",
   "name": "pixi-kernel-python3"
  },
  "language_info": {
   "codemirror_mode": {
    "name": "ipython",
    "version": 3
   },
   "file_extension": ".py",
   "mimetype": "text/x-python",
   "name": "python",
   "nbconvert_exporter": "python",
   "pygments_lexer": "ipython3",
   "version": "3.12.11"
  }
 },
 "nbformat": 4,
 "nbformat_minor": 5
}
